{
  "cells": [
    {
      "cell_type": "markdown",
      "metadata": {
        "id": "view-in-github",
        "colab_type": "text"
      },
      "source": [
        "<a href=\"https://colab.research.google.com/github/namvukhoa/Machine-Learning-Practice/blob/main/Clustering/Practice_Customer_Segmentation_KMeans.ipynb\" target=\"_parent\"><img src=\"https://colab.research.google.com/assets/colab-badge.svg\" alt=\"Open In Colab\"/></a>"
      ]
    },
    {
      "cell_type": "code",
      "execution_count": null,
      "metadata": {
        "id": "NftQ5wl-2rVv",
        "colab": {
          "base_uri": "https://localhost:8080/"
        },
        "outputId": "f242038e-cc40-4dd9-b36c-764acf339a70"
      },
      "outputs": [
        {
          "output_type": "stream",
          "name": "stderr",
          "text": [
            "/usr/local/lib/python3.7/dist-packages/statsmodels/tools/_testing.py:19: FutureWarning: pandas.util.testing is deprecated. Use the functions in the public API at pandas.testing instead.\n",
            "  import pandas.util.testing as tm\n"
          ]
        }
      ],
      "source": [
        "# Tải các thư viện cần thiết \n",
        "import pandas as pd\n",
        "import numpy as np\n",
        "import numpy as numpy\n",
        "import matplotlib.pyplot as plt\n",
        "import seaborn as sns\n",
        "from sklearn import metrics\n",
        "from scipy.spatial.distance import cdist\n",
        "from sklearn.cluster import KMeans\n",
        "from sklearn.preprocessing import MinMaxScaler, StandardScaler\n",
        "from statsmodels.graphics.gofplots import qqplot\n",
        "from scipy.stats import shapiro, skew, kurtosis"
      ]
    },
    {
      "cell_type": "code",
      "execution_count": null,
      "metadata": {
        "id": "gggaiwR3F7XR"
      },
      "outputs": [],
      "source": [
        "# Hiển thị số thập phân thay cho science math number\n",
        "numpy.set_printoptions(suppress=True)"
      ]
    },
    {
      "cell_type": "code",
      "execution_count": null,
      "metadata": {
        "colab": {
          "base_uri": "https://localhost:8080/"
        },
        "id": "0xKmBjRUGOqM",
        "outputId": "b0e3580e-187a-4785-a009-9afc2ee4dd9d"
      },
      "outputs": [
        {
          "output_type": "stream",
          "name": "stdout",
          "text": [
            "<class 'pandas.core.frame.DataFrame'>\n",
            "Int64Index: 1000 entries, 0 to 999\n",
            "Data columns (total 3 columns):\n",
            " #   Column  Non-Null Count  Dtype \n",
            "---  ------  --------------  ----- \n",
            " 0   income  1000 non-null   int64 \n",
            " 1   age     1000 non-null   int64 \n",
            " 2   gender  1000 non-null   object\n",
            "dtypes: int64(2), object(1)\n",
            "memory usage: 31.2+ KB\n"
          ]
        }
      ],
      "source": [
        "df = pd.read_csv(\"/content/drive/MyDrive/Data Sample/ageinc_g.csv\", index_col=0)\n",
        "df.info()"
      ]
    },
    {
      "cell_type": "code",
      "execution_count": null,
      "metadata": {
        "colab": {
          "base_uri": "https://localhost:8080/",
          "height": 206
        },
        "id": "_z1ExrVQisIb",
        "outputId": "45eb9aad-99f6-4fd7-9e69-413b0e164cda"
      },
      "outputs": [
        {
          "output_type": "execute_result",
          "data": {
            "text/plain": [
              "   income  age  gender\n",
              "0  101743   58  Female\n",
              "1   49597   27  Female\n",
              "2   36517   52    Male\n",
              "3   33223   49    Male\n",
              "4   72994   53  Female"
            ],
            "text/html": [
              "\n",
              "  <div id=\"df-fcba9aa1-7281-40fe-967f-a8142e489848\">\n",
              "    <div class=\"colab-df-container\">\n",
              "      <div>\n",
              "<style scoped>\n",
              "    .dataframe tbody tr th:only-of-type {\n",
              "        vertical-align: middle;\n",
              "    }\n",
              "\n",
              "    .dataframe tbody tr th {\n",
              "        vertical-align: top;\n",
              "    }\n",
              "\n",
              "    .dataframe thead th {\n",
              "        text-align: right;\n",
              "    }\n",
              "</style>\n",
              "<table border=\"1\" class=\"dataframe\">\n",
              "  <thead>\n",
              "    <tr style=\"text-align: right;\">\n",
              "      <th></th>\n",
              "      <th>income</th>\n",
              "      <th>age</th>\n",
              "      <th>gender</th>\n",
              "    </tr>\n",
              "  </thead>\n",
              "  <tbody>\n",
              "    <tr>\n",
              "      <th>0</th>\n",
              "      <td>101743</td>\n",
              "      <td>58</td>\n",
              "      <td>Female</td>\n",
              "    </tr>\n",
              "    <tr>\n",
              "      <th>1</th>\n",
              "      <td>49597</td>\n",
              "      <td>27</td>\n",
              "      <td>Female</td>\n",
              "    </tr>\n",
              "    <tr>\n",
              "      <th>2</th>\n",
              "      <td>36517</td>\n",
              "      <td>52</td>\n",
              "      <td>Male</td>\n",
              "    </tr>\n",
              "    <tr>\n",
              "      <th>3</th>\n",
              "      <td>33223</td>\n",
              "      <td>49</td>\n",
              "      <td>Male</td>\n",
              "    </tr>\n",
              "    <tr>\n",
              "      <th>4</th>\n",
              "      <td>72994</td>\n",
              "      <td>53</td>\n",
              "      <td>Female</td>\n",
              "    </tr>\n",
              "  </tbody>\n",
              "</table>\n",
              "</div>\n",
              "      <button class=\"colab-df-convert\" onclick=\"convertToInteractive('df-fcba9aa1-7281-40fe-967f-a8142e489848')\"\n",
              "              title=\"Convert this dataframe to an interactive table.\"\n",
              "              style=\"display:none;\">\n",
              "        \n",
              "  <svg xmlns=\"http://www.w3.org/2000/svg\" height=\"24px\"viewBox=\"0 0 24 24\"\n",
              "       width=\"24px\">\n",
              "    <path d=\"M0 0h24v24H0V0z\" fill=\"none\"/>\n",
              "    <path d=\"M18.56 5.44l.94 2.06.94-2.06 2.06-.94-2.06-.94-.94-2.06-.94 2.06-2.06.94zm-11 1L8.5 8.5l.94-2.06 2.06-.94-2.06-.94L8.5 2.5l-.94 2.06-2.06.94zm10 10l.94 2.06.94-2.06 2.06-.94-2.06-.94-.94-2.06-.94 2.06-2.06.94z\"/><path d=\"M17.41 7.96l-1.37-1.37c-.4-.4-.92-.59-1.43-.59-.52 0-1.04.2-1.43.59L10.3 9.45l-7.72 7.72c-.78.78-.78 2.05 0 2.83L4 21.41c.39.39.9.59 1.41.59.51 0 1.02-.2 1.41-.59l7.78-7.78 2.81-2.81c.8-.78.8-2.07 0-2.86zM5.41 20L4 18.59l7.72-7.72 1.47 1.35L5.41 20z\"/>\n",
              "  </svg>\n",
              "      </button>\n",
              "      \n",
              "  <style>\n",
              "    .colab-df-container {\n",
              "      display:flex;\n",
              "      flex-wrap:wrap;\n",
              "      gap: 12px;\n",
              "    }\n",
              "\n",
              "    .colab-df-convert {\n",
              "      background-color: #E8F0FE;\n",
              "      border: none;\n",
              "      border-radius: 50%;\n",
              "      cursor: pointer;\n",
              "      display: none;\n",
              "      fill: #1967D2;\n",
              "      height: 32px;\n",
              "      padding: 0 0 0 0;\n",
              "      width: 32px;\n",
              "    }\n",
              "\n",
              "    .colab-df-convert:hover {\n",
              "      background-color: #E2EBFA;\n",
              "      box-shadow: 0px 1px 2px rgba(60, 64, 67, 0.3), 0px 1px 3px 1px rgba(60, 64, 67, 0.15);\n",
              "      fill: #174EA6;\n",
              "    }\n",
              "\n",
              "    [theme=dark] .colab-df-convert {\n",
              "      background-color: #3B4455;\n",
              "      fill: #D2E3FC;\n",
              "    }\n",
              "\n",
              "    [theme=dark] .colab-df-convert:hover {\n",
              "      background-color: #434B5C;\n",
              "      box-shadow: 0px 1px 3px 1px rgba(0, 0, 0, 0.15);\n",
              "      filter: drop-shadow(0px 1px 2px rgba(0, 0, 0, 0.3));\n",
              "      fill: #FFFFFF;\n",
              "    }\n",
              "  </style>\n",
              "\n",
              "      <script>\n",
              "        const buttonEl =\n",
              "          document.querySelector('#df-fcba9aa1-7281-40fe-967f-a8142e489848 button.colab-df-convert');\n",
              "        buttonEl.style.display =\n",
              "          google.colab.kernel.accessAllowed ? 'block' : 'none';\n",
              "\n",
              "        async function convertToInteractive(key) {\n",
              "          const element = document.querySelector('#df-fcba9aa1-7281-40fe-967f-a8142e489848');\n",
              "          const dataTable =\n",
              "            await google.colab.kernel.invokeFunction('convertToInteractive',\n",
              "                                                     [key], {});\n",
              "          if (!dataTable) return;\n",
              "\n",
              "          const docLinkHtml = 'Like what you see? Visit the ' +\n",
              "            '<a target=\"_blank\" href=https://colab.research.google.com/notebooks/data_table.ipynb>data table notebook</a>'\n",
              "            + ' to learn more about interactive tables.';\n",
              "          element.innerHTML = '';\n",
              "          dataTable['output_type'] = 'display_data';\n",
              "          await google.colab.output.renderOutput(dataTable, element);\n",
              "          const docLink = document.createElement('div');\n",
              "          docLink.innerHTML = docLinkHtml;\n",
              "          element.appendChild(docLink);\n",
              "        }\n",
              "      </script>\n",
              "    </div>\n",
              "  </div>\n",
              "  "
            ]
          },
          "metadata": {},
          "execution_count": 4
        }
      ],
      "source": [
        "df.head()"
      ]
    },
    {
      "cell_type": "code",
      "execution_count": null,
      "metadata": {
        "colab": {
          "base_uri": "https://localhost:8080/"
        },
        "id": "STnyxXB5lZ8a",
        "outputId": "0c31be66-6812-4c14-8745-be1fa4181389"
      },
      "outputs": [
        {
          "output_type": "execute_result",
          "data": {
            "text/plain": [
              "{'age': 'Tuổi', 'income': 'Thu nhập'}"
            ]
          },
          "metadata": {},
          "execution_count": 5
        }
      ],
      "source": [
        "num_vars = ['income', 'age']\n",
        "vn_names = ['Thu nhập', 'Tuổi']\n",
        "\n",
        "g_labs = {'Female': 'Nữ', 'Male': 'Nam'}\n",
        "bin_pals = ['#1278e6','#e61244']\n",
        "\n",
        "trans_dict = {i:j for i,j in zip(num_vars, vn_names)}\n",
        "trans_dict"
      ]
    },
    {
      "cell_type": "code",
      "execution_count": null,
      "metadata": {
        "colab": {
          "base_uri": "https://localhost:8080/"
        },
        "id": "pqRmfTT5jV46",
        "outputId": "bd432596-ab58-4522-f9e9-24ead10b17c7"
      },
      "outputs": [
        {
          "output_type": "stream",
          "name": "stdout",
          "text": [
            "income    0\n",
            "age       0\n",
            "gender    0\n",
            "dtype: int64\n"
          ]
        }
      ],
      "source": [
        "print(df.isnull().sum())"
      ]
    },
    {
      "cell_type": "code",
      "source": [
        "df.describe()"
      ],
      "metadata": {
        "colab": {
          "base_uri": "https://localhost:8080/",
          "height": 300
        },
        "id": "ar3HHXPLyPjC",
        "outputId": "584b19ca-a35e-4447-dabf-07fdc9435d9e"
      },
      "execution_count": null,
      "outputs": [
        {
          "output_type": "execute_result",
          "data": {
            "text/plain": [
              "             income          age\n",
              "count    1000.00000  1000.000000\n",
              "mean    80116.81800    39.410000\n",
              "std     39262.33567    10.976811\n",
              "min         0.00000    18.000000\n",
              "25%     46402.25000    30.000000\n",
              "50%     78993.50000    39.000000\n",
              "75%    114810.50000    49.000000\n",
              "max    179294.00000    63.000000"
            ],
            "text/html": [
              "\n",
              "  <div id=\"df-9dd2a3de-b983-4005-8cb7-313f1aeb808f\">\n",
              "    <div class=\"colab-df-container\">\n",
              "      <div>\n",
              "<style scoped>\n",
              "    .dataframe tbody tr th:only-of-type {\n",
              "        vertical-align: middle;\n",
              "    }\n",
              "\n",
              "    .dataframe tbody tr th {\n",
              "        vertical-align: top;\n",
              "    }\n",
              "\n",
              "    .dataframe thead th {\n",
              "        text-align: right;\n",
              "    }\n",
              "</style>\n",
              "<table border=\"1\" class=\"dataframe\">\n",
              "  <thead>\n",
              "    <tr style=\"text-align: right;\">\n",
              "      <th></th>\n",
              "      <th>income</th>\n",
              "      <th>age</th>\n",
              "    </tr>\n",
              "  </thead>\n",
              "  <tbody>\n",
              "    <tr>\n",
              "      <th>count</th>\n",
              "      <td>1000.00000</td>\n",
              "      <td>1000.000000</td>\n",
              "    </tr>\n",
              "    <tr>\n",
              "      <th>mean</th>\n",
              "      <td>80116.81800</td>\n",
              "      <td>39.410000</td>\n",
              "    </tr>\n",
              "    <tr>\n",
              "      <th>std</th>\n",
              "      <td>39262.33567</td>\n",
              "      <td>10.976811</td>\n",
              "    </tr>\n",
              "    <tr>\n",
              "      <th>min</th>\n",
              "      <td>0.00000</td>\n",
              "      <td>18.000000</td>\n",
              "    </tr>\n",
              "    <tr>\n",
              "      <th>25%</th>\n",
              "      <td>46402.25000</td>\n",
              "      <td>30.000000</td>\n",
              "    </tr>\n",
              "    <tr>\n",
              "      <th>50%</th>\n",
              "      <td>78993.50000</td>\n",
              "      <td>39.000000</td>\n",
              "    </tr>\n",
              "    <tr>\n",
              "      <th>75%</th>\n",
              "      <td>114810.50000</td>\n",
              "      <td>49.000000</td>\n",
              "    </tr>\n",
              "    <tr>\n",
              "      <th>max</th>\n",
              "      <td>179294.00000</td>\n",
              "      <td>63.000000</td>\n",
              "    </tr>\n",
              "  </tbody>\n",
              "</table>\n",
              "</div>\n",
              "      <button class=\"colab-df-convert\" onclick=\"convertToInteractive('df-9dd2a3de-b983-4005-8cb7-313f1aeb808f')\"\n",
              "              title=\"Convert this dataframe to an interactive table.\"\n",
              "              style=\"display:none;\">\n",
              "        \n",
              "  <svg xmlns=\"http://www.w3.org/2000/svg\" height=\"24px\"viewBox=\"0 0 24 24\"\n",
              "       width=\"24px\">\n",
              "    <path d=\"M0 0h24v24H0V0z\" fill=\"none\"/>\n",
              "    <path d=\"M18.56 5.44l.94 2.06.94-2.06 2.06-.94-2.06-.94-.94-2.06-.94 2.06-2.06.94zm-11 1L8.5 8.5l.94-2.06 2.06-.94-2.06-.94L8.5 2.5l-.94 2.06-2.06.94zm10 10l.94 2.06.94-2.06 2.06-.94-2.06-.94-.94-2.06-.94 2.06-2.06.94z\"/><path d=\"M17.41 7.96l-1.37-1.37c-.4-.4-.92-.59-1.43-.59-.52 0-1.04.2-1.43.59L10.3 9.45l-7.72 7.72c-.78.78-.78 2.05 0 2.83L4 21.41c.39.39.9.59 1.41.59.51 0 1.02-.2 1.41-.59l7.78-7.78 2.81-2.81c.8-.78.8-2.07 0-2.86zM5.41 20L4 18.59l7.72-7.72 1.47 1.35L5.41 20z\"/>\n",
              "  </svg>\n",
              "      </button>\n",
              "      \n",
              "  <style>\n",
              "    .colab-df-container {\n",
              "      display:flex;\n",
              "      flex-wrap:wrap;\n",
              "      gap: 12px;\n",
              "    }\n",
              "\n",
              "    .colab-df-convert {\n",
              "      background-color: #E8F0FE;\n",
              "      border: none;\n",
              "      border-radius: 50%;\n",
              "      cursor: pointer;\n",
              "      display: none;\n",
              "      fill: #1967D2;\n",
              "      height: 32px;\n",
              "      padding: 0 0 0 0;\n",
              "      width: 32px;\n",
              "    }\n",
              "\n",
              "    .colab-df-convert:hover {\n",
              "      background-color: #E2EBFA;\n",
              "      box-shadow: 0px 1px 2px rgba(60, 64, 67, 0.3), 0px 1px 3px 1px rgba(60, 64, 67, 0.15);\n",
              "      fill: #174EA6;\n",
              "    }\n",
              "\n",
              "    [theme=dark] .colab-df-convert {\n",
              "      background-color: #3B4455;\n",
              "      fill: #D2E3FC;\n",
              "    }\n",
              "\n",
              "    [theme=dark] .colab-df-convert:hover {\n",
              "      background-color: #434B5C;\n",
              "      box-shadow: 0px 1px 3px 1px rgba(0, 0, 0, 0.15);\n",
              "      filter: drop-shadow(0px 1px 2px rgba(0, 0, 0, 0.3));\n",
              "      fill: #FFFFFF;\n",
              "    }\n",
              "  </style>\n",
              "\n",
              "      <script>\n",
              "        const buttonEl =\n",
              "          document.querySelector('#df-9dd2a3de-b983-4005-8cb7-313f1aeb808f button.colab-df-convert');\n",
              "        buttonEl.style.display =\n",
              "          google.colab.kernel.accessAllowed ? 'block' : 'none';\n",
              "\n",
              "        async function convertToInteractive(key) {\n",
              "          const element = document.querySelector('#df-9dd2a3de-b983-4005-8cb7-313f1aeb808f');\n",
              "          const dataTable =\n",
              "            await google.colab.kernel.invokeFunction('convertToInteractive',\n",
              "                                                     [key], {});\n",
              "          if (!dataTable) return;\n",
              "\n",
              "          const docLinkHtml = 'Like what you see? Visit the ' +\n",
              "            '<a target=\"_blank\" href=https://colab.research.google.com/notebooks/data_table.ipynb>data table notebook</a>'\n",
              "            + ' to learn more about interactive tables.';\n",
              "          element.innerHTML = '';\n",
              "          dataTable['output_type'] = 'display_data';\n",
              "          await google.colab.output.renderOutput(dataTable, element);\n",
              "          const docLink = document.createElement('div');\n",
              "          docLink.innerHTML = docLinkHtml;\n",
              "          element.appendChild(docLink);\n",
              "        }\n",
              "      </script>\n",
              "    </div>\n",
              "  </div>\n",
              "  "
            ]
          },
          "metadata": {},
          "execution_count": 7
        }
      ]
    },
    {
      "cell_type": "code",
      "source": [
        "df.kurtosis()"
      ],
      "metadata": {
        "colab": {
          "base_uri": "https://localhost:8080/"
        },
        "id": "aUsCrsTi3s9H",
        "outputId": "c9d12d18-33d5-4387-c741-292346bbd7e6"
      },
      "execution_count": null,
      "outputs": [
        {
          "output_type": "stream",
          "name": "stderr",
          "text": [
            "/usr/local/lib/python3.7/dist-packages/ipykernel_launcher.py:1: FutureWarning: Dropping of nuisance columns in DataFrame reductions (with 'numeric_only=None') is deprecated; in a future version this will raise TypeError.  Select only valid columns before calling the reduction.\n",
            "  \"\"\"Entry point for launching an IPython kernel.\n"
          ]
        },
        {
          "output_type": "execute_result",
          "data": {
            "text/plain": [
              "income   -1.210079\n",
              "age      -1.262649\n",
              "dtype: float64"
            ]
          },
          "metadata": {},
          "execution_count": 8
        }
      ]
    },
    {
      "cell_type": "code",
      "source": [
        "df.skew()"
      ],
      "metadata": {
        "colab": {
          "base_uri": "https://localhost:8080/"
        },
        "id": "mV0iNLZc3wzM",
        "outputId": "7ed50b20-59d9-4328-d1da-5cc9a4a751ec"
      },
      "execution_count": null,
      "outputs": [
        {
          "output_type": "stream",
          "name": "stderr",
          "text": [
            "/usr/local/lib/python3.7/dist-packages/ipykernel_launcher.py:1: FutureWarning: Dropping of nuisance columns in DataFrame reductions (with 'numeric_only=None') is deprecated; in a future version this will raise TypeError.  Select only valid columns before calling the reduction.\n",
            "  \"\"\"Entry point for launching an IPython kernel.\n"
          ]
        },
        {
          "output_type": "execute_result",
          "data": {
            "text/plain": [
              "income    0.028753\n",
              "age       0.049110\n",
              "dtype: float64"
            ]
          },
          "metadata": {},
          "execution_count": 9
        }
      ]
    },
    {
      "cell_type": "code",
      "source": [
        "class normality_check:\n",
        "    '''Class kiểm tra giả định phân bố chuẩn của 1 biến X\n",
        "    @ Args: x = pandas series\n",
        "    '''\n",
        "    def __init__(self, x):\n",
        "      self.x = x\n",
        "    def QQ_plot(self):\n",
        "        '''Vẽ biểu đồ QQplot\n",
        "        '''\n",
        "        qqplot(self.x, line='s')\n",
        "\n",
        "    def Shapiro_Wilk(self, alpha = 0.05):\n",
        "        '''Kiểm định Shapiro_Wilk\n",
        "        @ arguments: alpha = 0.05\n",
        "        '''\n",
        "        stat, p = shapiro(self.x)\n",
        "        shapiro_int = 'Không thể phủ định H0, phân bố gần với Gaussian' if p > alpha \\\n",
        "        else 'Phủ định H0, phân bố không phải Gaussian'\n",
        "        print(f'Kết quả kiểm định Shapiro-Wilk: stat={stat}, p={p}')\n",
        "        print(shapiro_int)"
      ],
      "metadata": {
        "id": "3lIxjBgh4gRi"
      },
      "execution_count": null,
      "outputs": []
    },
    {
      "cell_type": "code",
      "source": [
        "check_income = normality_check(df['income'])\n",
        "check_age = normality_check(df['age'])"
      ],
      "metadata": {
        "id": "RhdsiirS5HZd"
      },
      "execution_count": null,
      "outputs": []
    },
    {
      "cell_type": "code",
      "source": [
        "check_income.QQ_plot()"
      ],
      "metadata": {
        "colab": {
          "base_uri": "https://localhost:8080/",
          "height": 279
        },
        "id": "SDNQ2QaI6BVf",
        "outputId": "03fbb7df-be4e-4da3-ff2e-ac358faf2a7c"
      },
      "execution_count": null,
      "outputs": [
        {
          "output_type": "display_data",
          "data": {
            "text/plain": [
              "<Figure size 432x288 with 1 Axes>"
            ],
            "image/png": "[encoded data removed]"
          },
          "metadata": {
            "needs_background": "light"
          }
        }
      ]
    },
    {
      "cell_type": "code",
      "source": [
        "check_income.Shapiro_Wilk()"
      ],
      "metadata": {
        "colab": {
          "base_uri": "https://localhost:8080/"
        },
        "id": "6HMjRqRK6nfX",
        "outputId": "8c513e7b-ee3f-49f8-f684-48003028720f"
      },
      "execution_count": null,
      "outputs": [
        {
          "output_type": "stream",
          "name": "stdout",
          "text": [
            "Kết quả kiểm định Shapiro-Wilk: stat=0.9524417519569397, p=1.8453352255402555e-17\n",
            "Phủ định H0, phân bố không phải Gaussian\n"
          ]
        }
      ]
    },
    {
      "cell_type": "code",
      "source": [
        "check_age.QQ_plot()"
      ],
      "metadata": {
        "colab": {
          "base_uri": "https://localhost:8080/",
          "height": 279
        },
        "id": "SATcMaaX6tjC",
        "outputId": "6b699e6c-3ebd-4be0-d6c6-86fa794847e8"
      },
      "execution_count": null,
      "outputs": [
        {
          "output_type": "display_data",
          "data": {
            "text/plain": [
              "<Figure size 432x288 with 1 Axes>"
            ],
            "image/png": "[encoded data removed]"
          },
          "metadata": {
            "needs_background": "light"
          }
        }
      ]
    },
    {
      "cell_type": "code",
      "source": [
        "check_age.Shapiro_Wilk()"
      ],
      "metadata": {
        "colab": {
          "base_uri": "https://localhost:8080/"
        },
        "id": "-PMWAzJF6xPA",
        "outputId": "166037b2-47f0-4ee0-b5d4-d2d5030de719"
      },
      "execution_count": null,
      "outputs": [
        {
          "output_type": "stream",
          "name": "stdout",
          "text": [
            "Kết quả kiểm định Shapiro-Wilk: stat=0.9490379691123962, p=4.217338994070984e-18\n",
            "Phủ định H0, phân bố không phải Gaussian\n"
          ]
        }
      ]
    },
    {
      "cell_type": "code",
      "execution_count": null,
      "metadata": {
        "id": "f8EuC9EKjdjB"
      },
      "outputs": [],
      "source": [
        "def draw_box(data: pd.DataFrame, \n",
        "             x:str, \n",
        "             grp: str):\n",
        "    \n",
        "    df = data.copy()\n",
        "    df[grp] = df[grp].map(g_labs)\n",
        "    \n",
        "    plt.rcParams[\"figure.figsize\"] = (8,3)\n",
        "    plt.rcParams.update({'font.size': 12})\n",
        "    \n",
        "    sns.boxplot(data = df, \n",
        "                x = x,\n",
        "                y = grp,\n",
        "                hue = grp,\n",
        "                showfliers = True,\n",
        "                palette = bin_pals)\n",
        "    \n",
        "    plt.xlabel(trans_dict[x])\n",
        "    plt.ylabel(\"Nhóm khách hàng\")\n",
        "    plt.legend(loc = 'center right')\n",
        "    \n",
        "    plt.show()"
      ]
    },
    {
      "cell_type": "code",
      "source": [
        "draw_box(df, x='income', grp = 'gender')"
      ],
      "metadata": {
        "colab": {
          "base_uri": "https://localhost:8080/",
          "height": 231
        },
        "id": "7oyfmxYivGqK",
        "outputId": "36d4eeea-f65f-42e8-8a2d-25b15fd188d6"
      },
      "execution_count": null,
      "outputs": [
        {
          "output_type": "display_data",
          "data": {
            "text/plain": [
              "<Figure size 576x216 with 1 Axes>"
            ],
            "image/png": "[encoded data removed]"
          },
          "metadata": {
            "needs_background": "light"
          }
        }
      ]
    },
    {
      "cell_type": "code",
      "source": [
        "draw_box(df, x='age', grp='gender')"
      ],
      "metadata": {
        "colab": {
          "base_uri": "https://localhost:8080/",
          "height": 231
        },
        "id": "MyVda5uKweQv",
        "outputId": "813aa513-a9be-4f96-84cf-c08d7d056e47"
      },
      "execution_count": null,
      "outputs": [
        {
          "output_type": "display_data",
          "data": {
            "text/plain": [
              "<Figure size 576x216 with 1 Axes>"
            ],
            "image/png": "[encoded data removed]"
          },
          "metadata": {
            "needs_background": "light"
          }
        }
      ]
    },
    {
      "cell_type": "code",
      "source": [
        "def multiple_kde(data: pd.DataFrame,\n",
        "                 feats: list,\n",
        "                 grp: str):\n",
        "    \n",
        "    plt.rcParams[\"figure.figsize\"] = (12,8)\n",
        "    plt.rcParams.update({'font.size': 12})\n",
        "    \n",
        "    fig, axes = plt.subplots(nrows=1, ncols=2)\n",
        "    fig.subplots_adjust(hspace=0.5)\n",
        "    \n",
        "    fig.suptitle(f'Đặc tính phân bố của {len(feats)} biến')\n",
        "    \n",
        "    for ax,feature in zip(axes.flatten(), feats):\n",
        "        \n",
        "        lim = data[feature].min(), data[feature].max()\n",
        "        \n",
        "        for k,c in zip(data[grp].unique(),bin_pals):\n",
        "            df = data[data[grp] == k][[feature]]\n",
        "            \n",
        "            sns.kdeplot(data = df[feature],\n",
        "                    shade = True,\n",
        "                    color = c,\n",
        "                    clip = lim,\n",
        "                    alpha = 0.3,\n",
        "                    label = g_labs[k],\n",
        "                    ax = ax)\n",
        "        \n",
        "            sns.rugplot(data = df[feature],\n",
        "                        color = c, \n",
        "                        alpha = 0.4,\n",
        "                        ax = ax)\n",
        "            \n",
        "        ax.set_xlabel(trans_dict[feature])\n",
        "        \n",
        "    axes.flatten()[1].legend(loc='center', bbox_to_anchor=(0.5,1.25), ncol=2)\n",
        "    \n",
        "    plt.tight_layout()\n",
        "    plt.show()"
      ],
      "metadata": {
        "id": "aEhNTxavxjsU"
      },
      "execution_count": null,
      "outputs": []
    },
    {
      "cell_type": "code",
      "source": [
        "multiple_kde(df, feats = num_vars, grp = 'gender')"
      ],
      "metadata": {
        "colab": {
          "base_uri": "https://localhost:8080/",
          "height": 582
        },
        "id": "RcSStxphyuc0",
        "outputId": "46037364-ed0d-4fd0-facb-7a60f0c69760"
      },
      "execution_count": null,
      "outputs": [
        {
          "output_type": "display_data",
          "data": {
            "text/plain": [
              "<Figure size 864x576 with 2 Axes>"
            ],
            "image/png": "[encoded data removed]"
          },
          "metadata": {
            "needs_background": "light"
          }
        }
      ]
    },
    {
      "cell_type": "code",
      "source": [
        "df = pd.get_dummies(df, drop_first=True) \n",
        "df.head()"
      ],
      "metadata": {
        "colab": {
          "base_uri": "https://localhost:8080/",
          "height": 206
        },
        "id": "Cl2Jvdn40xN1",
        "outputId": "e76cdbcf-051f-4ec7-e525-163993295e9b"
      },
      "execution_count": null,
      "outputs": [
        {
          "output_type": "execute_result",
          "data": {
            "text/plain": [
              "   income  age  gender_Male\n",
              "0  101743   58            0\n",
              "1   49597   27            0\n",
              "2   36517   52            1\n",
              "3   33223   49            1\n",
              "4   72994   53            0"
            ],
            "text/html": [
              "\n",
              "  <div id=\"df-825ec6ca-e17e-4107-9c01-3914b829213d\">\n",
              "    <div class=\"colab-df-container\">\n",
              "      <div>\n",
              "<style scoped>\n",
              "    .dataframe tbody tr th:only-of-type {\n",
              "        vertical-align: middle;\n",
              "    }\n",
              "\n",
              "    .dataframe tbody tr th {\n",
              "        vertical-align: top;\n",
              "    }\n",
              "\n",
              "    .dataframe thead th {\n",
              "        text-align: right;\n",
              "    }\n",
              "</style>\n",
              "<table border=\"1\" class=\"dataframe\">\n",
              "  <thead>\n",
              "    <tr style=\"text-align: right;\">\n",
              "      <th></th>\n",
              "      <th>income</th>\n",
              "      <th>age</th>\n",
              "      <th>gender_Male</th>\n",
              "    </tr>\n",
              "  </thead>\n",
              "  <tbody>\n",
              "    <tr>\n",
              "      <th>0</th>\n",
              "      <td>101743</td>\n",
              "      <td>58</td>\n",
              "      <td>0</td>\n",
              "    </tr>\n",
              "    <tr>\n",
              "      <th>1</th>\n",
              "      <td>49597</td>\n",
              "      <td>27</td>\n",
              "      <td>0</td>\n",
              "    </tr>\n",
              "    <tr>\n",
              "      <th>2</th>\n",
              "      <td>36517</td>\n",
              "      <td>52</td>\n",
              "      <td>1</td>\n",
              "    </tr>\n",
              "    <tr>\n",
              "      <th>3</th>\n",
              "      <td>33223</td>\n",
              "      <td>49</td>\n",
              "      <td>1</td>\n",
              "    </tr>\n",
              "    <tr>\n",
              "      <th>4</th>\n",
              "      <td>72994</td>\n",
              "      <td>53</td>\n",
              "      <td>0</td>\n",
              "    </tr>\n",
              "  </tbody>\n",
              "</table>\n",
              "</div>\n",
              "      <button class=\"colab-df-convert\" onclick=\"convertToInteractive('df-825ec6ca-e17e-4107-9c01-3914b829213d')\"\n",
              "              title=\"Convert this dataframe to an interactive table.\"\n",
              "              style=\"display:none;\">\n",
              "        \n",
              "  <svg xmlns=\"http://www.w3.org/2000/svg\" height=\"24px\"viewBox=\"0 0 24 24\"\n",
              "       width=\"24px\">\n",
              "    <path d=\"M0 0h24v24H0V0z\" fill=\"none\"/>\n",
              "    <path d=\"M18.56 5.44l.94 2.06.94-2.06 2.06-.94-2.06-.94-.94-2.06-.94 2.06-2.06.94zm-11 1L8.5 8.5l.94-2.06 2.06-.94-2.06-.94L8.5 2.5l-.94 2.06-2.06.94zm10 10l.94 2.06.94-2.06 2.06-.94-2.06-.94-.94-2.06-.94 2.06-2.06.94z\"/><path d=\"M17.41 7.96l-1.37-1.37c-.4-.4-.92-.59-1.43-.59-.52 0-1.04.2-1.43.59L10.3 9.45l-7.72 7.72c-.78.78-.78 2.05 0 2.83L4 21.41c.39.39.9.59 1.41.59.51 0 1.02-.2 1.41-.59l7.78-7.78 2.81-2.81c.8-.78.8-2.07 0-2.86zM5.41 20L4 18.59l7.72-7.72 1.47 1.35L5.41 20z\"/>\n",
              "  </svg>\n",
              "      </button>\n",
              "      \n",
              "  <style>\n",
              "    .colab-df-container {\n",
              "      display:flex;\n",
              "      flex-wrap:wrap;\n",
              "      gap: 12px;\n",
              "    }\n",
              "\n",
              "    .colab-df-convert {\n",
              "      background-color: #E8F0FE;\n",
              "      border: none;\n",
              "      border-radius: 50%;\n",
              "      cursor: pointer;\n",
              "      display: none;\n",
              "      fill: #1967D2;\n",
              "      height: 32px;\n",
              "      padding: 0 0 0 0;\n",
              "      width: 32px;\n",
              "    }\n",
              "\n",
              "    .colab-df-convert:hover {\n",
              "      background-color: #E2EBFA;\n",
              "      box-shadow: 0px 1px 2px rgba(60, 64, 67, 0.3), 0px 1px 3px 1px rgba(60, 64, 67, 0.15);\n",
              "      fill: #174EA6;\n",
              "    }\n",
              "\n",
              "    [theme=dark] .colab-df-convert {\n",
              "      background-color: #3B4455;\n",
              "      fill: #D2E3FC;\n",
              "    }\n",
              "\n",
              "    [theme=dark] .colab-df-convert:hover {\n",
              "      background-color: #434B5C;\n",
              "      box-shadow: 0px 1px 3px 1px rgba(0, 0, 0, 0.15);\n",
              "      filter: drop-shadow(0px 1px 2px rgba(0, 0, 0, 0.3));\n",
              "      fill: #FFFFFF;\n",
              "    }\n",
              "  </style>\n",
              "\n",
              "      <script>\n",
              "        const buttonEl =\n",
              "          document.querySelector('#df-825ec6ca-e17e-4107-9c01-3914b829213d button.colab-df-convert');\n",
              "        buttonEl.style.display =\n",
              "          google.colab.kernel.accessAllowed ? 'block' : 'none';\n",
              "\n",
              "        async function convertToInteractive(key) {\n",
              "          const element = document.querySelector('#df-825ec6ca-e17e-4107-9c01-3914b829213d');\n",
              "          const dataTable =\n",
              "            await google.colab.kernel.invokeFunction('convertToInteractive',\n",
              "                                                     [key], {});\n",
              "          if (!dataTable) return;\n",
              "\n",
              "          const docLinkHtml = 'Like what you see? Visit the ' +\n",
              "            '<a target=\"_blank\" href=https://colab.research.google.com/notebooks/data_table.ipynb>data table notebook</a>'\n",
              "            + ' to learn more about interactive tables.';\n",
              "          element.innerHTML = '';\n",
              "          dataTable['output_type'] = 'display_data';\n",
              "          await google.colab.output.renderOutput(dataTable, element);\n",
              "          const docLink = document.createElement('div');\n",
              "          docLink.innerHTML = docLinkHtml;\n",
              "          element.appendChild(docLink);\n",
              "        }\n",
              "      </script>\n",
              "    </div>\n",
              "  </div>\n",
              "  "
            ]
          },
          "metadata": {},
          "execution_count": 20
        }
      ]
    },
    {
      "cell_type": "code",
      "source": [
        "mmScaler = MinMaxScaler()\n",
        "mmScaler.fit(df[['income', \n",
        "                 'age']])\n",
        "data_sub = mmScaler.transform(df[['income', \n",
        "                                  'age']])\n",
        "\n",
        "data_sub_mmScaler = pd.DataFrame(data_sub, \n",
        "                                 columns=['mm_income', \n",
        "                                          'mm_age'])\n",
        "data = pd.concat([df.reset_index(drop=True), \n",
        "                  data_sub_mmScaler], axis=1)\n",
        "data.head()"
      ],
      "metadata": {
        "colab": {
          "base_uri": "https://localhost:8080/",
          "height": 206
        },
        "id": "6VTeDEKo7DXn",
        "outputId": "c06eedc7-c57f-4c0f-9343-4b70ba8c68e4"
      },
      "execution_count": null,
      "outputs": [
        {
          "output_type": "execute_result",
          "data": {
            "text/plain": [
              "   income  age  gender_Male  mm_income    mm_age\n",
              "0  101743   58            0   0.567465  0.888889\n",
              "1   49597   27            0   0.276624  0.200000\n",
              "2   36517   52            1   0.203671  0.755556\n",
              "3   33223   49            1   0.185299  0.688889\n",
              "4   72994   53            0   0.407119  0.777778"
            ],
            "text/html": [
              "\n",
              "  <div id=\"df-b2d25e68-4ae3-4ad3-bd02-45cf66756eb1\">\n",
              "    <div class=\"colab-df-container\">\n",
              "      <div>\n",
              "<style scoped>\n",
              "    .dataframe tbody tr th:only-of-type {\n",
              "        vertical-align: middle;\n",
              "    }\n",
              "\n",
              "    .dataframe tbody tr th {\n",
              "        vertical-align: top;\n",
              "    }\n",
              "\n",
              "    .dataframe thead th {\n",
              "        text-align: right;\n",
              "    }\n",
              "</style>\n",
              "<table border=\"1\" class=\"dataframe\">\n",
              "  <thead>\n",
              "    <tr style=\"text-align: right;\">\n",
              "      <th></th>\n",
              "      <th>income</th>\n",
              "      <th>age</th>\n",
              "      <th>gender_Male</th>\n",
              "      <th>mm_income</th>\n",
              "      <th>mm_age</th>\n",
              "    </tr>\n",
              "  </thead>\n",
              "  <tbody>\n",
              "    <tr>\n",
              "      <th>0</th>\n",
              "      <td>101743</td>\n",
              "      <td>58</td>\n",
              "      <td>0</td>\n",
              "      <td>0.567465</td>\n",
              "      <td>0.888889</td>\n",
              "    </tr>\n",
              "    <tr>\n",
              "      <th>1</th>\n",
              "      <td>49597</td>\n",
              "      <td>27</td>\n",
              "      <td>0</td>\n",
              "      <td>0.276624</td>\n",
              "      <td>0.200000</td>\n",
              "    </tr>\n",
              "    <tr>\n",
              "      <th>2</th>\n",
              "      <td>36517</td>\n",
              "      <td>52</td>\n",
              "      <td>1</td>\n",
              "      <td>0.203671</td>\n",
              "      <td>0.755556</td>\n",
              "    </tr>\n",
              "    <tr>\n",
              "      <th>3</th>\n",
              "      <td>33223</td>\n",
              "      <td>49</td>\n",
              "      <td>1</td>\n",
              "      <td>0.185299</td>\n",
              "      <td>0.688889</td>\n",
              "    </tr>\n",
              "    <tr>\n",
              "      <th>4</th>\n",
              "      <td>72994</td>\n",
              "      <td>53</td>\n",
              "      <td>0</td>\n",
              "      <td>0.407119</td>\n",
              "      <td>0.777778</td>\n",
              "    </tr>\n",
              "  </tbody>\n",
              "</table>\n",
              "</div>\n",
              "      <button class=\"colab-df-convert\" onclick=\"convertToInteractive('df-b2d25e68-4ae3-4ad3-bd02-45cf66756eb1')\"\n",
              "              title=\"Convert this dataframe to an interactive table.\"\n",
              "              style=\"display:none;\">\n",
              "        \n",
              "  <svg xmlns=\"http://www.w3.org/2000/svg\" height=\"24px\"viewBox=\"0 0 24 24\"\n",
              "       width=\"24px\">\n",
              "    <path d=\"M0 0h24v24H0V0z\" fill=\"none\"/>\n",
              "    <path d=\"M18.56 5.44l.94 2.06.94-2.06 2.06-.94-2.06-.94-.94-2.06-.94 2.06-2.06.94zm-11 1L8.5 8.5l.94-2.06 2.06-.94-2.06-.94L8.5 2.5l-.94 2.06-2.06.94zm10 10l.94 2.06.94-2.06 2.06-.94-2.06-.94-.94-2.06-.94 2.06-2.06.94z\"/><path d=\"M17.41 7.96l-1.37-1.37c-.4-.4-.92-.59-1.43-.59-.52 0-1.04.2-1.43.59L10.3 9.45l-7.72 7.72c-.78.78-.78 2.05 0 2.83L4 21.41c.39.39.9.59 1.41.59.51 0 1.02-.2 1.41-.59l7.78-7.78 2.81-2.81c.8-.78.8-2.07 0-2.86zM5.41 20L4 18.59l7.72-7.72 1.47 1.35L5.41 20z\"/>\n",
              "  </svg>\n",
              "      </button>\n",
              "      \n",
              "  <style>\n",
              "    .colab-df-container {\n",
              "      display:flex;\n",
              "      flex-wrap:wrap;\n",
              "      gap: 12px;\n",
              "    }\n",
              "\n",
              "    .colab-df-convert {\n",
              "      background-color: #E8F0FE;\n",
              "      border: none;\n",
              "      border-radius: 50%;\n",
              "      cursor: pointer;\n",
              "      display: none;\n",
              "      fill: #1967D2;\n",
              "      height: 32px;\n",
              "      padding: 0 0 0 0;\n",
              "      width: 32px;\n",
              "    }\n",
              "\n",
              "    .colab-df-convert:hover {\n",
              "      background-color: #E2EBFA;\n",
              "      box-shadow: 0px 1px 2px rgba(60, 64, 67, 0.3), 0px 1px 3px 1px rgba(60, 64, 67, 0.15);\n",
              "      fill: #174EA6;\n",
              "    }\n",
              "\n",
              "    [theme=dark] .colab-df-convert {\n",
              "      background-color: #3B4455;\n",
              "      fill: #D2E3FC;\n",
              "    }\n",
              "\n",
              "    [theme=dark] .colab-df-convert:hover {\n",
              "      background-color: #434B5C;\n",
              "      box-shadow: 0px 1px 3px 1px rgba(0, 0, 0, 0.15);\n",
              "      filter: drop-shadow(0px 1px 2px rgba(0, 0, 0, 0.3));\n",
              "      fill: #FFFFFF;\n",
              "    }\n",
              "  </style>\n",
              "\n",
              "      <script>\n",
              "        const buttonEl =\n",
              "          document.querySelector('#df-b2d25e68-4ae3-4ad3-bd02-45cf66756eb1 button.colab-df-convert');\n",
              "        buttonEl.style.display =\n",
              "          google.colab.kernel.accessAllowed ? 'block' : 'none';\n",
              "\n",
              "        async function convertToInteractive(key) {\n",
              "          const element = document.querySelector('#df-b2d25e68-4ae3-4ad3-bd02-45cf66756eb1');\n",
              "          const dataTable =\n",
              "            await google.colab.kernel.invokeFunction('convertToInteractive',\n",
              "                                                     [key], {});\n",
              "          if (!dataTable) return;\n",
              "\n",
              "          const docLinkHtml = 'Like what you see? Visit the ' +\n",
              "            '<a target=\"_blank\" href=https://colab.research.google.com/notebooks/data_table.ipynb>data table notebook</a>'\n",
              "            + ' to learn more about interactive tables.';\n",
              "          element.innerHTML = '';\n",
              "          dataTable['output_type'] = 'display_data';\n",
              "          await google.colab.output.renderOutput(dataTable, element);\n",
              "          const docLink = document.createElement('div');\n",
              "          docLink.innerHTML = docLinkHtml;\n",
              "          element.appendChild(docLink);\n",
              "        }\n",
              "      </script>\n",
              "    </div>\n",
              "  </div>\n",
              "  "
            ]
          },
          "metadata": {},
          "execution_count": 21
        }
      ]
    },
    {
      "cell_type": "code",
      "source": [
        "#Chọn k\n",
        "distortions = []\n",
        "K = range(1,8)\n",
        "for k in K:\n",
        "  kmeanModel = KMeans(n_clusters=k) #số cụm\n",
        "  kmeanModel.fit(data[['mm_income','mm_age']])\n",
        "  distortions.append(sum(np.min(cdist(data[['mm_income','mm_age']], \n",
        "                                      kmeanModel.cluster_centers_, 'euclidean'), axis=1))/ data[['mm_income','mm_age']].shape[0])\n"
      ],
      "metadata": {
        "id": "O-SwVLCVvU6Y"
      },
      "execution_count": null,
      "outputs": []
    },
    {
      "cell_type": "code",
      "source": [
        "plt.plot(K, distortions, 'bx-')\n",
        "plt.xlabel('k')\n",
        "plt.ylabel('Distortion')\n",
        "plt.title(\"The Elbow Method showing the optimal k\")\n",
        "plt.show()"
      ],
      "metadata": {
        "colab": {
          "base_uri": "https://localhost:8080/",
          "height": 520
        },
        "id": "O9e80nfywreL",
        "outputId": "d1880aa7-a84f-4a65-a3fc-762b573450c2"
      },
      "execution_count": null,
      "outputs": [
        {
          "output_type": "display_data",
          "data": {
            "text/plain": [
              "<Figure size 864x576 with 1 Axes>"
            ],
            "image/png": "[encoded data removed]"
          },
          "metadata": {
            "needs_background": "light"
          }
        }
      ]
    },
    {
      "cell_type": "code",
      "source": [
        "kmeans = KMeans(n_clusters=4)\n",
        "kmeans.fit(data[['mm_income', 'mm_age']])\n"
      ],
      "metadata": {
        "colab": {
          "base_uri": "https://localhost:8080/"
        },
        "id": "R10A-tGXdnCs",
        "outputId": "a1a9b2bb-df62-4a1b-8dff-49570f95ce5e"
      },
      "execution_count": null,
      "outputs": [
        {
          "output_type": "execute_result",
          "data": {
            "text/plain": [
              "KMeans(n_clusters=4)"
            ]
          },
          "metadata": {},
          "execution_count": 24
        }
      ]
    },
    {
      "cell_type": "code",
      "source": [
        "centroids = kmeans.cluster_centers_\n",
        "labels = kmeans.labels_\n",
        "print(\"Centroids in min-max scale:\")\n",
        "print(centroids) \n",
        "print(\"Centroids in normal:\")\n",
        "normal_centroids = mmScaler.inverse_transform(centroids)\n",
        "print(normal_centroids)\n",
        "print(labels)"
      ],
      "metadata": {
        "colab": {
          "base_uri": "https://localhost:8080/"
        },
        "id": "Uuo-i6p7jdby",
        "outputId": "3b32885d-a069-45d2-8918-faf52c163edd"
      },
      "execution_count": null,
      "outputs": [
        {
          "output_type": "stream",
          "name": "stdout",
          "text": [
            "Centroids in min-max scale:\n",
            "[[0.24372937 0.25833333]\n",
            " [0.25925224 0.69644097]\n",
            " [0.64809667 0.6977591 ]\n",
            " [0.64257984 0.26106804]]\n",
            "Centroids in normal:\n",
            "[[ 43699.21370968     29.625     ]\n",
            " [ 46482.37109375     49.33984375]\n",
            " [116199.84453782     49.39915966]\n",
            " [115210.70930233     29.74806202]]\n",
            "[2 0 1 1 1 0 0 3 0 1 0 0 0 2 2 1 3 3 0 1 0 3 2 2 0 3 2 0 2 3 0 0 0 3 3 3 0\n",
            " 0 1 2 1 1 2 3 3 3 2 2 3 0 3 1 2 0 1 0 0 0 3 0 2 1 3 3 0 3 1 3 2 3 1 3 3 2\n",
            " 1 1 0 3 3 2 2 0 3 1 3 1 1 1 1 3 1 0 1 3 0 0 3 1 1 1 0 3 1 2 1 0 3 1 1 1 0\n",
            " 2 2 0 3 1 2 3 0 1 2 0 3 0 1 0 3 0 0 2 3 0 1 3 2 1 3 0 2 0 1 0 1 3 0 1 2 3\n",
            " 3 0 3 0 3 1 0 0 3 0 3 2 2 3 2 3 2 0 0 2 3 0 3 1 3 2 1 1 2 2 3 3 1 0 3 0 2\n",
            " 3 3 2 2 3 3 1 0 0 0 0 2 3 2 1 2 1 1 0 1 2 2 1 1 1 1 1 2 2 1 0 3 0 2 1 3 3\n",
            " 0 3 3 2 1 0 1 2 2 1 2 3 0 3 0 2 0 2 2 1 0 3 1 2 2 0 0 3 0 0 0 1 1 1 3 3 2\n",
            " 3 3 0 2 3 0 2 2 0 3 1 1 3 0 2 2 2 0 0 2 2 2 3 0 2 3 2 1 0 1 0 0 1 2 3 0 3\n",
            " 1 3 2 0 3 1 3 2 0 1 1 3 0 1 3 3 1 1 1 0 3 0 2 1 1 0 2 1 1 0 2 1 1 1 1 0 3\n",
            " 3 1 0 0 0 2 2 0 3 3 1 1 0 2 0 1 0 2 0 2 2 3 3 1 3 2 1 2 2 2 1 2 3 0 2 1 3\n",
            " 1 3 0 1 3 0 1 0 0 0 2 0 0 2 3 3 1 0 2 2 3 0 3 2 2 0 2 2 3 0 1 0 1 1 3 2 1\n",
            " 3 3 1 0 3 1 1 0 2 3 1 1 1 3 3 1 3 0 1 0 2 2 0 2 1 1 2 0 0 0 1 3 1 2 2 3 2\n",
            " 1 2 0 3 0 0 1 1 2 0 1 2 2 0 2 0 3 1 3 3 0 3 2 1 0 1 0 0 2 1 1 2 3 3 0 3 3\n",
            " 3 2 2 0 3 1 1 0 0 0 3 1 1 3 2 1 2 2 3 1 1 3 1 0 3 3 3 1 2 1 2 0 2 2 3 3 1\n",
            " 2 2 2 1 1 0 2 2 3 2 1 1 1 1 0 0 0 0 3 1 1 1 2 0 2 3 0 0 3 2 1 0 2 3 2 1 0\n",
            " 3 1 3 0 3 3 0 3 2 2 0 2 3 2 1 0 2 1 2 1 0 0 0 3 0 3 2 3 0 2 2 0 0 2 0 3 3\n",
            " 0 1 1 0 0 1 1 0 3 1 1 0 3 0 2 2 2 2 3 1 2 1 0 3 2 3 1 2 2 1 0 1 0 0 3 1 2\n",
            " 3 2 1 3 3 0 3 3 0 3 0 1 0 2 1 3 1 1 1 3 2 1 2 2 3 1 3 1 3 3 0 0 2 1 1 3 1\n",
            " 2 2 2 1 0 0 0 1 2 3 3 3 1 0 0 3 2 1 0 1 2 1 3 1 0 3 2 3 2 3 0 0 3 0 0 1 3\n",
            " 3 3 2 3 2 3 0 0 1 3 2 0 1 3 0 2 2 1 2 2 3 0 0 2 2 1 2 3 0 2 3 3 3 1 2 3 2\n",
            " 3 0 2 0 3 1 1 2 3 2 3 1 0 1 3 3 2 0 3 1 2 3 2 2 3 0 1 0 1 2 2 2 1 3 3 2 1\n",
            " 1 1 3 2 0 0 1 3 3 2 2 1 2 2 2 3 1 3 3 0 1 1 1 0 2 2 3 1 1 0 2 1 3 3 3 3 2\n",
            " 2 1 0 3 3 1 0 1 0 0 1 2 3 0 2 3 1 1 2 1 0 2 1 3 3 2 3 1 3 0 1 0 0 1 3 3 2\n",
            " 1 0 0 0 0 2 3 3 0 0 1 1 0 3 0 3 2 2 3 2 0 0 2 1 1 3 3 2 0 1 0 2 3 1 1 3 0\n",
            " 0 1 1 2 3 3 0 0 0 1 2 3 1 1 3 2 0 1 1 0 3 2 1 0 1 1 2 3 2 3 0 1 2 3 0 3 3\n",
            " 2 3 0 3 3 0 0 2 3 3 1 1 3 2 3 3 3 2 0 2 3 2 2 1 1 3 1 0 2 2 3 2 0 2 1 1 2\n",
            " 0 3 3 3 1 1 2 1 0 2 1 0 1 1 3 3 2 1 2 1 1 1 1 1 1 0 3 0 2 2 2 3 1 0 2 0 0\n",
            " 2]\n"
          ]
        }
      ]
    },
    {
      "cell_type": "code",
      "source": [
        "data['Group'] = pd.Series(labels)\n",
        "data.head()"
      ],
      "metadata": {
        "colab": {
          "base_uri": "https://localhost:8080/",
          "height": 206
        },
        "id": "2atEn-oIKeFX",
        "outputId": "c2bc48ab-ba22-4097-b8c5-7d27ddeb8ae6"
      },
      "execution_count": null,
      "outputs": [
        {
          "output_type": "execute_result",
          "data": {
            "text/plain": [
              "   income  age  gender_Male  mm_income    mm_age  Group\n",
              "0  101743   58            0   0.567465  0.888889      2\n",
              "1   49597   27            0   0.276624  0.200000      0\n",
              "2   36517   52            1   0.203671  0.755556      1\n",
              "3   33223   49            1   0.185299  0.688889      1\n",
              "4   72994   53            0   0.407119  0.777778      1"
            ],
            "text/html": [
              "\n",
              "  <div id=\"df-1b687516-dc9b-40c8-9241-af7ada7f273d\">\n",
              "    <div class=\"colab-df-container\">\n",
              "      <div>\n",
              "<style scoped>\n",
              "    .dataframe tbody tr th:only-of-type {\n",
              "        vertical-align: middle;\n",
              "    }\n",
              "\n",
              "    .dataframe tbody tr th {\n",
              "        vertical-align: top;\n",
              "    }\n",
              "\n",
              "    .dataframe thead th {\n",
              "        text-align: right;\n",
              "    }\n",
              "</style>\n",
              "<table border=\"1\" class=\"dataframe\">\n",
              "  <thead>\n",
              "    <tr style=\"text-align: right;\">\n",
              "      <th></th>\n",
              "      <th>income</th>\n",
              "      <th>age</th>\n",
              "      <th>gender_Male</th>\n",
              "      <th>mm_income</th>\n",
              "      <th>mm_age</th>\n",
              "      <th>Group</th>\n",
              "    </tr>\n",
              "  </thead>\n",
              "  <tbody>\n",
              "    <tr>\n",
              "      <th>0</th>\n",
              "      <td>101743</td>\n",
              "      <td>58</td>\n",
              "      <td>0</td>\n",
              "      <td>0.567465</td>\n",
              "      <td>0.888889</td>\n",
              "      <td>2</td>\n",
              "    </tr>\n",
              "    <tr>\n",
              "      <th>1</th>\n",
              "      <td>49597</td>\n",
              "      <td>27</td>\n",
              "      <td>0</td>\n",
              "      <td>0.276624</td>\n",
              "      <td>0.200000</td>\n",
              "      <td>0</td>\n",
              "    </tr>\n",
              "    <tr>\n",
              "      <th>2</th>\n",
              "      <td>36517</td>\n",
              "      <td>52</td>\n",
              "      <td>1</td>\n",
              "      <td>0.203671</td>\n",
              "      <td>0.755556</td>\n",
              "      <td>1</td>\n",
              "    </tr>\n",
              "    <tr>\n",
              "      <th>3</th>\n",
              "      <td>33223</td>\n",
              "      <td>49</td>\n",
              "      <td>1</td>\n",
              "      <td>0.185299</td>\n",
              "      <td>0.688889</td>\n",
              "      <td>1</td>\n",
              "    </tr>\n",
              "    <tr>\n",
              "      <th>4</th>\n",
              "      <td>72994</td>\n",
              "      <td>53</td>\n",
              "      <td>0</td>\n",
              "      <td>0.407119</td>\n",
              "      <td>0.777778</td>\n",
              "      <td>1</td>\n",
              "    </tr>\n",
              "  </tbody>\n",
              "</table>\n",
              "</div>\n",
              "      <button class=\"colab-df-convert\" onclick=\"convertToInteractive('df-1b687516-dc9b-40c8-9241-af7ada7f273d')\"\n",
              "              title=\"Convert this dataframe to an interactive table.\"\n",
              "              style=\"display:none;\">\n",
              "        \n",
              "  <svg xmlns=\"http://www.w3.org/2000/svg\" height=\"24px\"viewBox=\"0 0 24 24\"\n",
              "       width=\"24px\">\n",
              "    <path d=\"M0 0h24v24H0V0z\" fill=\"none\"/>\n",
              "    <path d=\"M18.56 5.44l.94 2.06.94-2.06 2.06-.94-2.06-.94-.94-2.06-.94 2.06-2.06.94zm-11 1L8.5 8.5l.94-2.06 2.06-.94-2.06-.94L8.5 2.5l-.94 2.06-2.06.94zm10 10l.94 2.06.94-2.06 2.06-.94-2.06-.94-.94-2.06-.94 2.06-2.06.94z\"/><path d=\"M17.41 7.96l-1.37-1.37c-.4-.4-.92-.59-1.43-.59-.52 0-1.04.2-1.43.59L10.3 9.45l-7.72 7.72c-.78.78-.78 2.05 0 2.83L4 21.41c.39.39.9.59 1.41.59.51 0 1.02-.2 1.41-.59l7.78-7.78 2.81-2.81c.8-.78.8-2.07 0-2.86zM5.41 20L4 18.59l7.72-7.72 1.47 1.35L5.41 20z\"/>\n",
              "  </svg>\n",
              "      </button>\n",
              "      \n",
              "  <style>\n",
              "    .colab-df-container {\n",
              "      display:flex;\n",
              "      flex-wrap:wrap;\n",
              "      gap: 12px;\n",
              "    }\n",
              "\n",
              "    .colab-df-convert {\n",
              "      background-color: #E8F0FE;\n",
              "      border: none;\n",
              "      border-radius: 50%;\n",
              "      cursor: pointer;\n",
              "      display: none;\n",
              "      fill: #1967D2;\n",
              "      height: 32px;\n",
              "      padding: 0 0 0 0;\n",
              "      width: 32px;\n",
              "    }\n",
              "\n",
              "    .colab-df-convert:hover {\n",
              "      background-color: #E2EBFA;\n",
              "      box-shadow: 0px 1px 2px rgba(60, 64, 67, 0.3), 0px 1px 3px 1px rgba(60, 64, 67, 0.15);\n",
              "      fill: #174EA6;\n",
              "    }\n",
              "\n",
              "    [theme=dark] .colab-df-convert {\n",
              "      background-color: #3B4455;\n",
              "      fill: #D2E3FC;\n",
              "    }\n",
              "\n",
              "    [theme=dark] .colab-df-convert:hover {\n",
              "      background-color: #434B5C;\n",
              "      box-shadow: 0px 1px 3px 1px rgba(0, 0, 0, 0.15);\n",
              "      filter: drop-shadow(0px 1px 2px rgba(0, 0, 0, 0.3));\n",
              "      fill: #FFFFFF;\n",
              "    }\n",
              "  </style>\n",
              "\n",
              "      <script>\n",
              "        const buttonEl =\n",
              "          document.querySelector('#df-1b687516-dc9b-40c8-9241-af7ada7f273d button.colab-df-convert');\n",
              "        buttonEl.style.display =\n",
              "          google.colab.kernel.accessAllowed ? 'block' : 'none';\n",
              "\n",
              "        async function convertToInteractive(key) {\n",
              "          const element = document.querySelector('#df-1b687516-dc9b-40c8-9241-af7ada7f273d');\n",
              "          const dataTable =\n",
              "            await google.colab.kernel.invokeFunction('convertToInteractive',\n",
              "                                                     [key], {});\n",
              "          if (!dataTable) return;\n",
              "\n",
              "          const docLinkHtml = 'Like what you see? Visit the ' +\n",
              "            '<a target=\"_blank\" href=https://colab.research.google.com/notebooks/data_table.ipynb>data table notebook</a>'\n",
              "            + ' to learn more about interactive tables.';\n",
              "          element.innerHTML = '';\n",
              "          dataTable['output_type'] = 'display_data';\n",
              "          await google.colab.output.renderOutput(dataTable, element);\n",
              "          const docLink = document.createElement('div');\n",
              "          docLink.innerHTML = docLinkHtml;\n",
              "          element.appendChild(docLink);\n",
              "        }\n",
              "      </script>\n",
              "    </div>\n",
              "  </div>\n",
              "  "
            ]
          },
          "metadata": {},
          "execution_count": 30
        }
      ]
    },
    {
      "cell_type": "code",
      "source": [
        "data.Group.value_counts()"
      ],
      "metadata": {
        "colab": {
          "base_uri": "https://localhost:8080/"
        },
        "id": "-5NJQVJcK3uT",
        "outputId": "44528735-9bab-45ab-dae9-029d871c59ae"
      },
      "execution_count": null,
      "outputs": [
        {
          "output_type": "execute_result",
          "data": {
            "text/plain": [
              "3    258\n",
              "1    256\n",
              "0    248\n",
              "2    238\n",
              "Name: Group, dtype: int64"
            ]
          },
          "metadata": {},
          "execution_count": 31
        }
      ]
    },
    {
      "cell_type": "code",
      "source": [
        "i = 0\n",
        "for cluster in normal_centroids:\n",
        "  print(\"*** Centroid Cluster:\" + str(i))\n",
        "  print(\"Income:\", round(cluster[0],2))\n",
        "  print(\"Age:\", round(cluster[1]), 2)\n",
        "\n",
        "  i = i +1"
      ],
      "metadata": {
        "colab": {
          "base_uri": "https://localhost:8080/"
        },
        "id": "k7MOPQUPI2V_",
        "outputId": "3f9826d7-1ed1-40bb-89d0-6878015e7464"
      },
      "execution_count": null,
      "outputs": [
        {
          "output_type": "stream",
          "name": "stdout",
          "text": [
            "*** Centroid Cluster:0\n",
            "Income: 43699.21\n",
            "Age: 30 2\n",
            "*** Centroid Cluster:1\n",
            "Income: 46482.37\n",
            "Age: 49 2\n",
            "*** Centroid Cluster:2\n",
            "Income: 116199.84\n",
            "Age: 49 2\n",
            "*** Centroid Cluster:3\n",
            "Income: 115210.71\n",
            "Age: 30 2\n"
          ]
        }
      ]
    },
    {
      "cell_type": "code",
      "source": [
        "plt.figure(figsize=(8,8))\n",
        "\n",
        "plt.scatter(data.income, data.age, c=data.Group, cmap='rainbow')\n",
        "plt.scatter(normal_centroids[:,0], normal_centroids[:,1], marker = 's', c = 'black')\n",
        "plt.show()"
      ],
      "metadata": {
        "colab": {
          "base_uri": "https://localhost:8080/",
          "height": 486
        },
        "id": "adkLPnVxJY2z",
        "outputId": "2afdcdab-8b43-4c48-9782-258a47906d0a"
      },
      "execution_count": null,
      "outputs": [
        {
          "output_type": "display_data",
          "data": {
            "text/plain": [
              "<Figure size 576x576 with 1 Axes>"
            ],
            "image/png": "[encoded data removed]"
          },
          "metadata": {
            "needs_background": "light"
          }
        }
      ]
    }
  ],
  "metadata": {
    "colab": {
      "name": "Practice_Customer Segmentation_KMeans.ipynb",
      "provenance": [],
      "collapsed_sections": [],
      "mount_file_id": "13S1RLML3dX6LoppB-hlIl3YrwE952sCY",
      "authorship_tag": "ABX9TyMBLAY5rimr4sGcD+LYRUMJ",
      "include_colab_link": true
    },
    "kernelspec": {
      "display_name": "Python 3",
      "name": "python3"
    },
    "language_info": {
      "name": "python"
    }
  },
  "nbformat": 4,
  "nbformat_minor": 0
}